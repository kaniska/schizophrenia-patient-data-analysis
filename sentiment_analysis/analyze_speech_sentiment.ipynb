{
 "cells": [
  {
   "cell_type": "markdown",
   "id": "3ab75e46",
   "metadata": {},
   "source": [
    "# Analyze Customer Reviews with Azure OpenAI Service (AOAI)"
   ]
  },
  {
   "cell_type": "code",
   "execution_count": 19,
   "id": "d239633a",
   "metadata": {},
   "outputs": [],
   "source": [
    "# Import necessary libraries.\n",
    "import pandas as pd\n",
    "import openai"
   ]
  },
  {
   "cell_type": "code",
   "execution_count": null,
   "id": "4a4d4eff-082e-419b-b549-4d466bb4dd30",
   "metadata": {},
   "outputs": [],
   "source": [
    "!pip install --upgrade openai"
   ]
  },
  {
   "cell_type": "code",
   "execution_count": 14,
   "id": "8f0dd7af",
   "metadata": {},
   "outputs": [
    {
     "data": {
      "text/html": [
       "<div>\n",
       "<style scoped>\n",
       "    .dataframe tbody tr th:only-of-type {\n",
       "        vertical-align: middle;\n",
       "    }\n",
       "\n",
       "    .dataframe tbody tr th {\n",
       "        vertical-align: top;\n",
       "    }\n",
       "\n",
       "    .dataframe thead th {\n",
       "        text-align: right;\n",
       "    }\n",
       "</style>\n",
       "<table border=\"1\" class=\"dataframe\">\n",
       "  <thead>\n",
       "    <tr style=\"text-align: right;\">\n",
       "      <th></th>\n",
       "      <th>Title</th>\n",
       "      <th>Contents</th>\n",
       "      <th>Date</th>\n",
       "    </tr>\n",
       "  </thead>\n",
       "  <tbody>\n",
       "    <tr>\n",
       "      <th>0</th>\n",
       "      <td>recorded_speech_v1</td>\n",
       "      <td>Everything’s just too much sometimes, you know...</td>\n",
       "      <td>04/01/2024</td>\n",
       "    </tr>\n",
       "  </tbody>\n",
       "</table>\n",
       "</div>"
      ],
      "text/plain": [
       "                Title                                           Contents  \\\n",
       "0  recorded_speech_v1  Everything’s just too much sometimes, you know...   \n",
       "\n",
       "         Date  \n",
       "0  04/01/2024  "
      ]
     },
     "execution_count": 14,
     "metadata": {},
     "output_type": "execute_result"
    }
   ],
   "source": [
    "# Load csv data to Pandas dataframe and display the header.\n",
    "df = pd.read_csv('/Users/kaniska/Downloads/speech_sample.csv', sep='|')\n",
    "df.head()"
   ]
  },
  {
   "cell_type": "code",
   "execution_count": 15,
   "id": "14c1c929",
   "metadata": {},
   "outputs": [
    {
     "name": "stdout",
     "output_type": "stream",
     "text": [
      "<class 'pandas.core.frame.DataFrame'>\n",
      "RangeIndex: 1 entries, 0 to 0\n",
      "Data columns (total 3 columns):\n",
      " #   Column    Non-Null Count  Dtype \n",
      "---  ------    --------------  ----- \n",
      " 0   Title     1 non-null      object\n",
      " 1   Contents  1 non-null      object\n",
      " 2   Date      1 non-null      object\n",
      "dtypes: object(3)\n",
      "memory usage: 152.0+ bytes\n"
     ]
    }
   ],
   "source": [
    "# Check dataframe information.\n",
    "df.info()"
   ]
  },
  {
   "cell_type": "code",
   "execution_count": 23,
   "id": "c71885e7",
   "metadata": {},
   "outputs": [],
   "source": [
    "from openai import OpenAI\n",
    "# Configure the baseline configuration of the OpenAI library."
   ]
  },
  {
   "cell_type": "code",
   "execution_count": 53,
   "id": "8aa2ceaa",
   "metadata": {},
   "outputs": [
    {
     "name": "stdout",
     "output_type": "stream",
     "text": [
      "Everything’s just too much sometimes, you know? I get so mad because the voices won’t stop yapping. It's like they’re yelling right into my ears and I can’t shut them off. Makes me so tired. I told the doctor, but I don’t think he gets it. Not really. It feels like nobody understands. And the people staring doesn’t help. They look at me funny, whispering behind my back. It just makes me angrier. I try to smile, show them I’m okay, but inside I'm screaming. Why can’t they just leave me alone? The shadows are the worst. They sneak around, almost catching me, and then they're gone when I look again. It scares me. I hold onto my usual things, my routines, because without them, I feel like I’d just float away into some dark place.\n",
      "Review Content: Everything’s just too much sometimes, you know? I get so mad because the voices won’t stop yapping. It's like they’re yelling right into my ears and I can’t shut them off. Makes me so tired. I told the doctor, but I don’t think he gets it. Not really. It feels like nobody understands. And the people staring doesn’t help. They look at me funny, whispering behind my back. It just makes me angrier. I try to smile, show them I’m okay, but inside I'm screaming. Why can’t they just leave me alone? The shadows are the worst. They sneak around, almost catching me, and then they're gone when I look again. It scares me. I hold onto my usual things, my routines, because without them, I feel like I’d just float away into some dark place.\n",
      "Sentiment Classified\n",
      "Emotional Tones Generated\n",
      "Intent Keywords Generated\n"
     ]
    }
   ],
   "source": [
    "# Primary functions to interact with AOAI GPT-3 to obtain insights.\n",
    "review_content_list = []\n",
    "\n",
    "for index, headers in df.iterrows():\n",
    "    print(headers[\"Contents\"])\n",
    "    review_content = str(headers[\"Contents\"])\n",
    "    print(\"Review Content: {}\".format(review_content))\n",
    "    # Use GPT-3 to classify the sentiment of the review content.\n",
    "    response1 = client.chat.completions.create(\n",
    "      model=\"gpt-4\",\n",
    "      messages=[\n",
    "        {\n",
    "            \"role\": \"user\",\n",
    "            \"content\": \"Classify the sentiment of the following review content following categories: \\\n",
    "      categories: [Negative, Netural, Positive]\\n\\nreview content : \" + review_content + \"\\n\\nClassified sentiment:\",\n",
    "        },\n",
    "      ],\n",
    "      )\n",
    "    classified_sentiment = response1.choices[0].message.content.replace(\" \", \"\")\n",
    "    # print(\"Classified Sentiment of Review Content: {}\".format(classified_sentiment))\n",
    "    print(\"Sentiment Classified\")\n",
    "    \n",
    "    # Use AOAI GPT-4 to find the different tones on the review content.\n",
    "    response2 = client.chat.completions.create(\n",
    "      model=\"gpt-4\",\n",
    "      messages=[\n",
    "        {\n",
    "            \"role\": \"user\",\n",
    "            \"content\": \"Based on the review content, find all the different tones with scores (out of 100). Show the scores in a json \\\n",
    "            which has a structure [{'tone': .., 'score': ...},{'tone': .., 'score': ...},.. ] \\\n",
    "            where 'tone' is the name of the key field and 'score' is the name of the value field:\" \\\n",
    "      + review_content + \"\\n\\nEmotional Tones:\",\n",
    "        },\n",
    "      ],\n",
    "    )\n",
    "    emotional_tones = response2.choices[0].message.content.replace(\"\\n\",\"\").replace(\".\",\"\")\n",
    "    print(\"Emotional Tones Generated\")\n",
    "    \n",
    "    # Use GPT-4 to summarize 3 keyword based on the review content.\n",
    "    response3 = client.chat.completions.create(\n",
    "      model=\"gpt-4\",\n",
    "      messages=[\n",
    "        {\n",
    "            \"role\": \"user\",\n",
    "            \"content\": \"Based on the review content, find the key intents in maximum 5 keywords:\" \\\n",
    "      + review_content + \"\\n\\nIntent Keywords:\",\n",
    "        },\n",
    "      ],\n",
    "    )\n",
    "    summarized_keywords = response3.choices[0].message.content.replace(\"\\n\",\"\").replace(\".\",\"\")\n",
    "    \n",
    "    # print(\"Summarize 3 Keywords from the Review Content: {}\".format(summarized_keywords))\n",
    "    print(\"Intent Keywords Generated\")\n",
    "    \n",
    "    # Append the insights result into a list.\n",
    "    review_content_list.append([review_content, classified_sentiment, emotional_tones, summarized_keywords])\n",
    "\n",
    "# Convert the list of insights into a Pandas dataframe.\n",
    "review_content_df = pd.DataFrame(review_content_list, columns=['review_content', 'classified_sentiment', 'emotional_tones','intent_keywords'])"
   ]
  },
  {
   "cell_type": "code",
   "execution_count": 54,
   "id": "0ae534be",
   "metadata": {},
   "outputs": [
    {
     "data": {
      "text/html": [
       "<div>\n",
       "<style scoped>\n",
       "    .dataframe tbody tr th:only-of-type {\n",
       "        vertical-align: middle;\n",
       "    }\n",
       "\n",
       "    .dataframe tbody tr th {\n",
       "        vertical-align: top;\n",
       "    }\n",
       "\n",
       "    .dataframe thead th {\n",
       "        text-align: right;\n",
       "    }\n",
       "</style>\n",
       "<table border=\"1\" class=\"dataframe\">\n",
       "  <thead>\n",
       "    <tr style=\"text-align: right;\">\n",
       "      <th></th>\n",
       "      <th>review_content</th>\n",
       "      <th>classified_sentiment</th>\n",
       "      <th>emotional_tones</th>\n",
       "      <th>intent_keywords</th>\n",
       "    </tr>\n",
       "  </thead>\n",
       "  <tbody>\n",
       "    <tr>\n",
       "      <th>0</th>\n",
       "      <td>Everything’s just too much sometimes, you know...</td>\n",
       "      <td>Negative</td>\n",
       "      <td>[{'tone': 'Anger', 'score': 82}, {'tone': 'Fea...</td>\n",
       "      <td>Frustration, Anger, Fear, Misunderstanding, Is...</td>\n",
       "    </tr>\n",
       "  </tbody>\n",
       "</table>\n",
       "</div>"
      ],
      "text/plain": [
       "                                      review_content classified_sentiment  \\\n",
       "0  Everything’s just too much sometimes, you know...             Negative   \n",
       "\n",
       "                                     emotional_tones  \\\n",
       "0  [{'tone': 'Anger', 'score': 82}, {'tone': 'Fea...   \n",
       "\n",
       "                                     intent_keywords  \n",
       "0  Frustration, Anger, Fear, Misunderstanding, Is...  "
      ]
     },
     "execution_count": 54,
     "metadata": {},
     "output_type": "execute_result"
    }
   ],
   "source": [
    "# Display the result dataframe with the insights from AOAI GPT-3.\n",
    "review_content_df"
   ]
  },
  {
   "cell_type": "code",
   "execution_count": 144,
   "id": "58f9c7ea",
   "metadata": {},
   "outputs": [],
   "source": [
    "# Save the result dataframe into a CSV file.\n",
    "review_content_df.to_csv(\"./data/analyzed_review_content.csv\")"
   ]
  },
  {
   "cell_type": "code",
   "execution_count": 30,
   "id": "5ea4a8c0",
   "metadata": {},
   "outputs": [
    {
     "name": "stdout",
     "output_type": "stream",
     "text": [
      "Everything’s just too much sometimes, you know?...\n"
     ]
    }
   ],
   "source": [
    "# Concatenate all the review content into a single string.\n",
    "review_content_string = review_content_df['review_content'].to_string(header=False, index=False)\n",
    "print(review_content_string)"
   ]
  },
  {
   "cell_type": "code",
   "execution_count": 31,
   "id": "4a8ac723",
   "metadata": {},
   "outputs": [
    {
     "data": {
      "text/plain": [
       "<AxesSubplot:ylabel='review_content'>"
      ]
     },
     "execution_count": 31,
     "metadata": {},
     "output_type": "execute_result"
    },
    {
     "data": {
      "image/png": "[encoded data removed]",
      "text/plain": [
       "<Figure size 800x800 with 1 Axes>"
      ]
     },
     "metadata": {},
     "output_type": "display_data"
    }
   ],
   "source": [
    "# Visualize the classified sentiment of the review content as a pie chart.\n",
    "review_content_df.groupby(['classified_sentiment']).count().plot(kind='pie',y='review_content', autopct='%1.0f%%', \\\n",
    "                                                                figsize =(8,8))"
   ]
  },
  {
   "cell_type": "code",
   "execution_count": 92,
   "id": "8ceb1f6b",
   "metadata": {
    "tags": []
   },
   "outputs": [
    {
     "data": {
      "text/plain": [
       "0    [{'tone': 'Anger', 'score': 82}, {'tone': 'Fea...\n",
       "Name: emotional_tones, dtype: object"
      ]
     },
     "execution_count": 92,
     "metadata": {},
     "output_type": "execute_result"
    }
   ],
   "source": [
    "import json\n",
    "emotones_data = review_content_df[\"emotional_tones\"]\n",
    "emotones_data"
   ]
  },
  {
   "cell_type": "code",
   "execution_count": 106,
   "id": "e9988395-7783-4495-bdb2-5f9beca6f811",
   "metadata": {},
   "outputs": [
    {
     "data": {
      "text/plain": [
       "'[\"[{\\'tone\\': \\'Anger\\', \\'score\\': 82}, {\\'tone\\': \\'Fear\\', \\'score\\': 79}, {\\'tone\\': \\'Sadness\\', \\'score\\': 75}, {\\'tone\\': \\'Frustration\\', \\'score\\': 72}, {\\'tone\\': \\'Loneliness\\', \\'score\\': 70}]\"]'"
      ]
     },
     "execution_count": 106,
     "metadata": {},
     "output_type": "execute_result"
    }
   ],
   "source": [
    "from json import loads, dumps\n",
    "emotones_json = emotones_data.to_json(orient='records')\n",
    "emotones_json\n",
    "#parsed = loads(emotones_json)\n",
    "#dumps(parsed)"
   ]
  },
  {
   "cell_type": "code",
   "execution_count": null,
   "id": "9adc8ba5-c515-4605-bf7e-0d713cb755bb",
   "metadata": {},
   "outputs": [],
   "source": [
    "#emotones_data.plot.bar(x='tone',y='score', figsize =(8,8))"
   ]
  },
  {
   "cell_type": "code",
   "execution_count": null,
   "id": "45e53934-1145-4d7c-b651-14616637d144",
   "metadata": {},
   "outputs": [],
   "source": []
  },
  {
   "cell_type": "code",
   "execution_count": null,
   "id": "d22e6ddd-33c1-4cde-b0ca-e7a8a6733a2b",
   "metadata": {},
   "outputs": [],
   "source": []
  }
 ],
 "metadata": {
  "kernelspec": {
   "display_name": "Python 3 (ipykernel)",
   "language": "python",
   "name": "python3"
  },
  "language_info": {
   "codemirror_mode": {
    "name": "ipython",
    "version": 3
   },
   "file_extension": ".py",
   "mimetype": "text/x-python",
   "name": "python",
   "nbconvert_exporter": "python",
   "pygments_lexer": "ipython3",
   "version": "3.8.13"
  },
  "toc-autonumbering": false,
  "toc-showcode": false,
  "toc-showmarkdowntxt": false,
  "toc-showtags": true
 },
 "nbformat": 4,
 "nbformat_minor": 5
}
