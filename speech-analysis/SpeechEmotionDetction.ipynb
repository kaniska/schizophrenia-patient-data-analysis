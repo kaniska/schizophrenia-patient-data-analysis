{
 "cells": [
  {
   "cell_type": "code",
   "execution_count": 1,
   "id": "2eed152f-ca47-4a34-b654-847877da9731",
   "metadata": {},
   "outputs": [
    {
     "name": "stdout",
     "output_type": "stream",
     "text": [
      "Requirement already satisfied: transformers[torch] in /Users/kaniska/Library/jupyterlab-desktop/jlab_server/lib/python3.8/site-packages (4.39.1)\n",
      "Requirement already satisfied: filelock in /Users/kaniska/Library/jupyterlab-desktop/jlab_server/lib/python3.8/site-packages (from transformers[torch]) (3.13.1)\n",
      "Requirement already satisfied: huggingface-hub<1.0,>=0.19.3 in /Users/kaniska/Library/jupyterlab-desktop/jlab_server/lib/python3.8/site-packages (from transformers[torch]) (0.21.4)\n",
      "Requirement already satisfied: numpy>=1.17 in /Users/kaniska/Library/jupyterlab-desktop/jlab_server/lib/python3.8/site-packages (from transformers[torch]) (1.23.2)\n",
      "Requirement already satisfied: packaging>=20.0 in /Users/kaniska/Library/jupyterlab-desktop/jlab_server/lib/python3.8/site-packages (from transformers[torch]) (21.3)\n",
      "Requirement already satisfied: pyyaml>=5.1 in /Users/kaniska/Library/jupyterlab-desktop/jlab_server/lib/python3.8/site-packages (from transformers[torch]) (6.0)\n",
      "Requirement already satisfied: regex!=2019.12.17 in /Users/kaniska/Library/jupyterlab-desktop/jlab_server/lib/python3.8/site-packages (from transformers[torch]) (2023.12.25)\n",
      "Requirement already satisfied: requests in /Users/kaniska/Library/jupyterlab-desktop/jlab_server/lib/python3.8/site-packages (from transformers[torch]) (2.28.1)\n",
      "Requirement already satisfied: tokenizers<0.19,>=0.14 in /Users/kaniska/Library/jupyterlab-desktop/jlab_server/lib/python3.8/site-packages (from transformers[torch]) (0.15.2)\n",
      "Requirement already satisfied: safetensors>=0.4.1 in /Users/kaniska/Library/jupyterlab-desktop/jlab_server/lib/python3.8/site-packages (from transformers[torch]) (0.4.2)\n",
      "Requirement already satisfied: tqdm>=4.27 in /Users/kaniska/Library/jupyterlab-desktop/jlab_server/lib/python3.8/site-packages (from transformers[torch]) (4.64.1)\n",
      "Requirement already satisfied: torch in /Users/kaniska/Library/jupyterlab-desktop/jlab_server/lib/python3.8/site-packages (from transformers[torch]) (2.2.1)\n",
      "Requirement already satisfied: accelerate>=0.21.0 in /Users/kaniska/Library/jupyterlab-desktop/jlab_server/lib/python3.8/site-packages (from transformers[torch]) (0.28.0)\n",
      "Requirement already satisfied: psutil in /Users/kaniska/Library/jupyterlab-desktop/jlab_server/lib/python3.8/site-packages (from accelerate>=0.21.0->transformers[torch]) (5.9.2)\n",
      "Requirement already satisfied: fsspec>=2023.5.0 in /Users/kaniska/Library/jupyterlab-desktop/jlab_server/lib/python3.8/site-packages (from huggingface-hub<1.0,>=0.19.3->transformers[torch]) (2024.3.1)\n",
      "Requirement already satisfied: typing-extensions>=3.7.4.3 in /Users/kaniska/Library/jupyterlab-desktop/jlab_server/lib/python3.8/site-packages (from huggingface-hub<1.0,>=0.19.3->transformers[torch]) (4.10.0)\n",
      "Requirement already satisfied: pyparsing!=3.0.5,>=2.0.2 in /Users/kaniska/Library/jupyterlab-desktop/jlab_server/lib/python3.8/site-packages (from packaging>=20.0->transformers[torch]) (3.0.9)\n",
      "Requirement already satisfied: sympy in /Users/kaniska/Library/jupyterlab-desktop/jlab_server/lib/python3.8/site-packages (from torch->transformers[torch]) (1.12)\n",
      "Requirement already satisfied: networkx in /Users/kaniska/Library/jupyterlab-desktop/jlab_server/lib/python3.8/site-packages (from torch->transformers[torch]) (3.0)\n",
      "Requirement already satisfied: jinja2 in /Users/kaniska/Library/jupyterlab-desktop/jlab_server/lib/python3.8/site-packages (from torch->transformers[torch]) (3.1.2)\n",
      "Requirement already satisfied: charset-normalizer<3,>=2 in /Users/kaniska/Library/jupyterlab-desktop/jlab_server/lib/python3.8/site-packages (from requests->transformers[torch]) (2.1.1)\n",
      "Requirement already satisfied: idna<4,>=2.5 in /Users/kaniska/Library/jupyterlab-desktop/jlab_server/lib/python3.8/site-packages (from requests->transformers[torch]) (3.3)\n",
      "Requirement already satisfied: urllib3<1.27,>=1.21.1 in /Users/kaniska/Library/jupyterlab-desktop/jlab_server/lib/python3.8/site-packages (from requests->transformers[torch]) (1.26.11)\n",
      "Requirement already satisfied: certifi>=2017.4.17 in /Users/kaniska/Library/jupyterlab-desktop/jlab_server/lib/python3.8/site-packages (from requests->transformers[torch]) (2022.6.15)\n",
      "Requirement already satisfied: MarkupSafe>=2.0 in /Users/kaniska/Library/jupyterlab-desktop/jlab_server/lib/python3.8/site-packages (from jinja2->torch->transformers[torch]) (2.1.1)\n",
      "Requirement already satisfied: mpmath>=0.19 in /Users/kaniska/Library/jupyterlab-desktop/jlab_server/lib/python3.8/site-packages (from sympy->torch->transformers[torch]) (1.3.0)\n"
     ]
    }
   ],
   "source": [
    "!pip install transformers[torch]"
   ]
  },
  {
   "cell_type": "code",
   "execution_count": 3,
   "id": "dc76ad24-d48b-45c3-ba73-10f9db4b904e",
   "metadata": {},
   "outputs": [
    {
     "name": "stdout",
     "output_type": "stream",
     "text": [
      "2024-03-22 20:51:28.191305: I tensorflow/core/platform/cpu_feature_guard.cc:182] This TensorFlow binary is optimized to use available CPU instructions in performance-critical operations.\n",
      "To enable the following instructions: AVX2 FMA, in other operations, rebuild TensorFlow with the appropriate compiler flags.\n",
      "No model was supplied, defaulted to distilbert/distilbert-base-uncased-finetuned-sst-2-english and revision af0f99b (https://huggingface.co/distilbert/distilbert-base-uncased-finetuned-sst-2-english).\n",
      "Using a pipeline without specifying a model name and revision in production is not recommended.\n",
      "config.json: 100%|█████████████████████████████| 629/629 [00:00<00:00, 70.1kB/s]\n",
      "model.safetensors: 100%|█████████████████████| 268M/268M [00:07<00:00, 36.6MB/s]\n",
      "tokenizer_config.json: 100%|█████████████████| 48.0/48.0 [00:00<00:00, 6.88kB/s]\n",
      "vocab.txt: 100%|█████████████████████████████| 232k/232k [00:00<00:00, 3.71MB/s]\n",
      "[{'label': 'POSITIVE', 'score': 0.9998704195022583}]\n"
     ]
    }
   ],
   "source": [
    "!python -c \"from transformers import pipeline; print(pipeline('sentiment-analysis')('we love you'))\","
   ]
  },
  {
   "cell_type": "code",
   "execution_count": 4,
   "id": "4a5665fb-8b7c-4909-8ef4-fe6f5b151ea0",
   "metadata": {},
   "outputs": [],
   "source": [
    "import librosa\n",
    "\n",
    "audio_path = \"/Users/kaniska/Downloads/autistic_sound2.wav\"\n",
    "waveform, sample_rate = librosa.load(audio_path, sr=None) "
   ]
  },
  {
   "cell_type": "code",
   "execution_count": 5,
   "id": "d68c321a-efb9-4bd3-94c2-7bcd032fe368",
   "metadata": {},
   "outputs": [
    {
     "name": "stderr",
     "output_type": "stream",
     "text": [
      "2024-03-22 21:33:19.909686: I tensorflow/core/platform/cpu_feature_guard.cc:182] This TensorFlow binary is optimized to use available CPU instructions in performance-critical operations.\n",
      "To enable the following instructions: AVX2 FMA, in other operations, rebuild TensorFlow with the appropriate compiler flags.\n"
     ]
    },
    {
     "data": {
      "application/vnd.jupyter.widget-view+json": {
       "model_id": "ad6f43120beb4efdbbe6a5e1182bc023",
       "version_major": 2,
       "version_minor": 0
      },
      "text/plain": [
       "model.safetensors:   0%|          | 0.00/346M [00:00<?, ?B/s]"
      ]
     },
     "metadata": {},
     "output_type": "display_data"
    },
    {
     "data": {
      "application/vnd.jupyter.widget-view+json": {
       "model_id": "b012659929dc492db6e7941fd4fcfb83",
       "version_major": 2,
       "version_minor": 0
      },
      "text/plain": [
       "preprocessor_config.json:   0%|          | 0.00/297 [00:00<?, ?B/s]"
      ]
     },
     "metadata": {},
     "output_type": "display_data"
    },
    {
     "name": "stdout",
     "output_type": "stream",
     "text": [
      "[{'score': 0.3829529881477356, 'label': 'Roar'}, {'score': 0.2641867399215698, 'label': 'Grunt'}, {'score': 0.0722307562828064, 'label': 'Roaring cats (lions, tigers)'}, {'score': 0.05872304365038872, 'label': 'Wild animals'}, {'score': 0.05689550191164017, 'label': 'Animal'}]\n"
     ]
    }
   ],
   "source": [
    "from transformers import pipeline\n",
    "\n",
    "pipe = pipeline(\"audio-classification\", model=\"MIT/ast-finetuned-audioset-10-10-0.4593\")\n",
    "\n",
    "results = pipe(waveform, sample_rate=sample_rate)\n",
    "\n",
    "print(results)"
   ]
  },
  {
   "cell_type": "code",
   "execution_count": 6,
   "id": "bba66d2c-ca08-4130-bcb9-9b08125e3af4",
   "metadata": {},
   "outputs": [
    {
     "data": {
      "application/vnd.jupyter.widget-view+json": {
       "model_id": "217b5c7b9f40423aa786b148814bb931",
       "version_major": 2,
       "version_minor": 0
      },
      "text/plain": [
       "config.json:   0%|          | 0.00/2.28k [00:00<?, ?B/s]"
      ]
     },
     "metadata": {},
     "output_type": "display_data"
    },
    {
     "name": "stderr",
     "output_type": "stream",
     "text": [
      "/Users/kaniska/Library/jupyterlab-desktop/jlab_server/lib/python3.8/site-packages/transformers/configuration_utils.py:363: UserWarning: Passing `gradient_checkpointing` to a config initialization is deprecated and will be removed in v5 Transformers. Using `model.gradient_checkpointing_enable()` instead, or if you are using the `Trainer` API, pass `gradient_checkpointing=True` in your `TrainingArguments`.\n",
      "  warnings.warn(\n"
     ]
    },
    {
     "data": {
      "application/vnd.jupyter.widget-view+json": {
       "model_id": "0342f2f8157244c190737b873d6a80bd",
       "version_major": 2,
       "version_minor": 0
      },
      "text/plain": [
       "pytorch_model.bin:   0%|          | 0.00/1.27G [00:00<?, ?B/s]"
      ]
     },
     "metadata": {},
     "output_type": "display_data"
    },
    {
     "name": "stderr",
     "output_type": "stream",
     "text": [
      "Some weights of the model checkpoint at ehcalabres/wav2vec2-lg-xlsr-en-speech-emotion-recognition were not used when initializing Wav2Vec2ForSequenceClassification: ['classifier.dense.bias', 'classifier.dense.weight', 'classifier.output.bias', 'classifier.output.weight', 'wav2vec2.encoder.pos_conv_embed.conv.weight_g', 'wav2vec2.encoder.pos_conv_embed.conv.weight_v']\n",
      "- This IS expected if you are initializing Wav2Vec2ForSequenceClassification from the checkpoint of a model trained on another task or with another architecture (e.g. initializing a BertForSequenceClassification model from a BertForPreTraining model).\n",
      "- This IS NOT expected if you are initializing Wav2Vec2ForSequenceClassification from the checkpoint of a model that you expect to be exactly identical (initializing a BertForSequenceClassification model from a BertForSequenceClassification model).\n",
      "Some weights of Wav2Vec2ForSequenceClassification were not initialized from the model checkpoint at ehcalabres/wav2vec2-lg-xlsr-en-speech-emotion-recognition and are newly initialized: ['classifier.bias', 'classifier.weight', 'projector.bias', 'projector.weight', 'wav2vec2.encoder.pos_conv_embed.conv.parametrizations.weight.original0', 'wav2vec2.encoder.pos_conv_embed.conv.parametrizations.weight.original1']\n",
      "You should probably TRAIN this model on a down-stream task to be able to use it for predictions and inference.\n"
     ]
    },
    {
     "data": {
      "application/vnd.jupyter.widget-view+json": {
       "model_id": "7008d38607ab4c45872900147b8b82f7",
       "version_major": 2,
       "version_minor": 0
      },
      "text/plain": [
       "preprocessor_config.json:   0%|          | 0.00/214 [00:00<?, ?B/s]"
      ]
     },
     "metadata": {},
     "output_type": "display_data"
    },
    {
     "name": "stdout",
     "output_type": "stream",
     "text": [
      "[{'score': 0.13501517474651337, 'label': 'angry'}, {'score': 0.13115575909614563, 'label': 'calm'}, {'score': 0.12886416912078857, 'label': 'happy'}, {'score': 0.1257651001214981, 'label': 'sad'}, {'score': 0.1203988641500473, 'label': 'neutral'}]\n"
     ]
    }
   ],
   "source": [
    "pipe = pipeline(\"audio-classification\", model=\"ehcalabres/wav2vec2-lg-xlsr-en-speech-emotion-recognition\")\n",
    "\n",
    "results = pipe(waveform, sample_rate=sample_rate)\n",
    "\n",
    "print(results)"
   ]
  },
  {
   "cell_type": "code",
   "execution_count": null,
   "id": "ef604a1c-6ba5-47f3-bf16-ff2b41083942",
   "metadata": {},
   "outputs": [],
   "source": []
  }
 ],
 "metadata": {
  "kernelspec": {
   "display_name": "Python 3 (ipykernel)",
   "language": "python",
   "name": "python3"
  },
  "language_info": {
   "codemirror_mode": {
    "name": "ipython",
    "version": 3
   },
   "file_extension": ".py",
   "mimetype": "text/x-python",
   "name": "python",
   "nbconvert_exporter": "python",
   "pygments_lexer": "ipython3",
   "version": "3.8.13"
  }
 },
 "nbformat": 4,
 "nbformat_minor": 5
}
